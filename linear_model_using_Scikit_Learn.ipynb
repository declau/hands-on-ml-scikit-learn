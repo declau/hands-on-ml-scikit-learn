{
  "nbformat": 4,
  "nbformat_minor": 0,
  "metadata": {
    "colab": {
      "provenance": [],
      "authorship_tag": "ABX9TyOzzwG7KR0LDIBf96KLPu9I",
      "include_colab_link": true
    },
    "kernelspec": {
      "name": "python3",
      "display_name": "Python 3"
    },
    "language_info": {
      "name": "python"
    }
  },
  "cells": [
    {
      "cell_type": "markdown",
      "metadata": {
        "id": "view-in-github",
        "colab_type": "text"
      },
      "source": [
        "<a href=\"https://colab.research.google.com/github/declau/hands-on-ml-scikit-learn/blob/main/linear_model_using_Scikit_Learn.ipynb\" target=\"_parent\"><img src=\"https://colab.research.google.com/assets/colab-badge.svg\" alt=\"Open In Colab\"/></a>"
      ]
    },
    {
      "cell_type": "code",
      "source": [
        "import matplotlib.pyplot as plt\n",
        "import numpy as np\n",
        "import pandas as pd\n",
        "import sklearn.linear_model"
      ],
      "metadata": {
        "id": "iCDF8SkURTnv"
      },
      "execution_count": null,
      "outputs": []
    },
    {
      "cell_type": "code",
      "source": [
        "# Load the data\n",
        "oecd_bli = pd.read_csv(\"oecd_bli_2015.csv\", thousands=',')\n",
        "gdp_per_capita = pd.read_csv(\"gdp_per_capita.csv\",thousands=',',delimiter='\\t',\n",
        "  encoding='latin1', na_values=\"n/a\")"
      ],
      "metadata": {
        "id": "CWJR4a4tQuyM"
      },
      "execution_count": null,
      "outputs": []
    },
    {
      "cell_type": "code",
      "source": [
        "# Prepare the data\n",
        "country_stats = prepare_country_stats(oecd_bli, gdp_per_capita)\n",
        "X = np.c_[country_stats[\"GDP per capita\"]]\n",
        "y = np.c_[country_stats[\"Life satisfaction\"]]"
      ],
      "metadata": {
        "id": "hUjCXu0lQxK6"
      },
      "execution_count": null,
      "outputs": []
    },
    {
      "cell_type": "code",
      "source": [
        "# Visualize the data\n",
        "country_stats.plot(kind='scatter', x=\"GDP per capita\", y='Life\n",
        "satisfaction')\n",
        "plt.show()"
      ],
      "metadata": {
        "id": "n3w5-aBtQ1wu"
      },
      "execution_count": null,
      "outputs": []
    },
    {
      "cell_type": "code",
      "source": [
        "# Select a linear model\n",
        "model = sklearn.linear_model.LinearRegression()"
      ],
      "metadata": {
        "id": "DG-aEbiIQ3wP"
      },
      "execution_count": null,
      "outputs": []
    },
    {
      "cell_type": "code",
      "source": [
        "# Train the model\n",
        "model.fit(X, y)"
      ],
      "metadata": {
        "id": "5NSofJz_Q__N"
      },
      "execution_count": null,
      "outputs": []
    },
    {
      "cell_type": "code",
      "source": [
        "# Make a prediction for Cyprus\n",
        "X_new = [[22587]] # Cyprus's GDP per capita\n",
        "print(model.predict(X_new)) # outputs [[ 5.96242338]]"
      ],
      "metadata": {
        "id": "UbrGIOuPRFA4"
      },
      "execution_count": null,
      "outputs": []
    }
  ]
}